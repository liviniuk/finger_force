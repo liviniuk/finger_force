{
 "cells": [
  {
   "cell_type": "markdown",
   "metadata": {},
   "source": [
    "## Convert raw FSR readings to newtons"
   ]
  },
  {
   "cell_type": "code",
   "execution_count": null,
   "metadata": {},
   "outputs": [],
   "source": [
    "import numpy as np\n",
    "import matplotlib.pyplot as plt\n",
    "from scipy.interpolate import interp1d"
   ]
  },
  {
   "cell_type": "code",
   "execution_count": null,
   "metadata": {},
   "outputs": [],
   "source": [
    "f_vs_r = np.array([\n",
    "    [20, 30],\n",
    "    [50, 10],\n",
    "    [100, 6],\n",
    "    [230, 3.2],\n",
    "    [500, 2],\n",
    "    [1000, 1.1],\n",
    "    [2000, 0.72],\n",
    "    [4000, 0.43],\n",
    "    [7000, 0.3],\n",
    "    [10000, 0.24]\n",
    "])"
   ]
  },
  {
   "cell_type": "code",
   "execution_count": null,
   "metadata": {},
   "outputs": [],
   "source": [
    "def Rfsr2newtons(R):\n",
    "    return np.exp(f(np.log(R)))"
   ]
  },
  {
   "cell_type": "code",
   "execution_count": null,
   "metadata": {},
   "outputs": [],
   "source": [
    "def analog2newtons(analog):\n",
    "    V = 5.0 # Volt\n",
    "    R = 10.0 # kOm\n",
    "    Vout = V * analog / 1023.0\n",
    "    Rfsr = np.zeros(Vout.shape)\n",
    "    newtons = np.zeros(Vout.shape)\n",
    "    for i in range(Vout.shape[0]):\n",
    "        for j in range(Vout.shape[1]):\n",
    "            if Vout[i,j] == 0:\n",
    "                continue\n",
    "            Rfsr[i,j] = R * (V / Vout[i,j] - 1) # kOm\n",
    "            newtons[i,j] = Rfsr2newtons(Rfsr[i,j]) # in g\n",
    "    newtons *= 9.8e-3\n",
    "    return newtons, Rfsr"
   ]
  },
  {
   "cell_type": "code",
   "execution_count": null,
   "metadata": {},
   "outputs": [],
   "source": [
    "# save labels in csv format (after filtering)\n",
    "for subject_number in range(1, 8):\n",
    "    for experiment_number in range(1, 11):\n",
    "        fsr_data_path = '/media/viktor/Samsung_T5/Research/dataset/{:02d}/{:02d}/labels.csv'.format(subject_number, experiment_number)\n",
    "        fsr_data = np.loadtxt(fsr_data_path, delimiter=',')\n",
    "        newtons, _ = analog2newtons(fsr_data)\n",
    "        \n",
    "        output_path = '/media/viktor/Samsung_T5/Research/dataset/{:02d}/{:02d}/'.format(subject_number, experiment_number)\n",
    "        np.savetxt('{}newtons.csv'.format(output_path), newtons, delimiter=\",\")"
   ]
  },
  {
   "cell_type": "code",
   "execution_count": null,
   "metadata": {},
   "outputs": [],
   "source": [
    "fsr_data_path = '/media/viktor/Samsung_T5/Research/dataset/{:02d}/{:02d}/labels.csv'.format(1, 1)\n",
    "fsr_data = np.loadtxt(fsr_data_path, delimiter=',')\n",
    "fsr_data"
   ]
  },
  {
   "cell_type": "code",
   "execution_count": null,
   "metadata": {},
   "outputs": [],
   "source": [
    "for subject_number in range(1, 8):\n",
    "    for experiment_number in range(1, 11):\n",
    "        fsr_data_path = '/media/viktor/Samsung_T5/Research/dataset/{:02d}/{:02d}/newtons.csv'.format(subject_number, experiment_number)\n",
    "        newtons = np.loadtxt(fsr_data_path, delimiter=',')\n",
    "        print(newtons.max())"
   ]
  },
  {
   "cell_type": "code",
   "execution_count": null,
   "metadata": {},
   "outputs": [],
   "source": [
    "subject_number = 6\n",
    "experiment_number = 1\n",
    "fsr_data_path = '/media/viktor/Samsung_T5/Research/dataset/{:02d}/{:02d}/raw_force_data.txt'.format(subject_number, experiment_number)\n",
    "newtons = np.loadtxt(fsr_data_path, delimiter=',')\n",
    "\n",
    "plt.figure(figsize=(20,15))\n",
    "plt.plot(newtons[:,0], 'r-', linewidth=1, label='1')\n",
    "plt.plot(newtons[:,1]*30, 'b-', linewidth=1, label='2')\n",
    "plt.ylabel('Force [N]', fontsize=24)\n",
    "plt.xlabel('Time [sec]', fontsize=24)\n",
    "plt.grid()\n",
    "plt.legend(fontsize=18)\n",
    "plt.show()"
   ]
  },
  {
   "cell_type": "code",
   "execution_count": null,
   "metadata": {},
   "outputs": [],
   "source": [
    "subject_number = 4\n",
    "\n",
    "fig = plt.figure(figsize=(15,15))\n",
    "for experiment_number in range(1, 11):\n",
    "    newtons_path = '/media/viktor/Samsung_T5/Research/dataset/{:02d}/{:02d}/newtons.csv'.format(subject_number, experiment_number)\n",
    "    newtons = np.loadtxt(newtons_path, delimiter=',')\n",
    "    \n",
    "    fsr_data_path = '/media/viktor/Samsung_T5/Research/dataset/{:02d}/{:02d}/labels.csv'.format(subject_number, experiment_number)\n",
    "    fsr_data = np.loadtxt(fsr_data_path, delimiter=',')\n",
    "    \n",
    "    plt.subplot(10, 1, experiment_number)\n",
    "    plt.plot(newtons[:,0]*100, 'r-', linewidth=1, label='N1')\n",
    "    plt.plot(newtons[:,1]*100, 'b-', linewidth=1, label='N2')\n",
    "#     plt.plot(fsr_data[:,0], 'r--', linewidth=1, label='D1')\n",
    "#     plt.plot(fsr_data[:,1], 'b--', linewidth=1, label='D2')\n",
    "\n",
    "plt.show()"
   ]
  },
  {
   "cell_type": "code",
   "execution_count": null,
   "metadata": {},
   "outputs": [],
   "source": []
  }
 ],
 "metadata": {
  "kernelspec": {
   "display_name": "Python 3",
   "language": "python",
   "name": "python3"
  },
  "language_info": {
   "codemirror_mode": {
    "name": "ipython",
    "version": 3
   },
   "file_extension": ".py",
   "mimetype": "text/x-python",
   "name": "python",
   "nbconvert_exporter": "python",
   "pygments_lexer": "ipython3",
   "version": "3.6.5"
  }
 },
 "nbformat": 4,
 "nbformat_minor": 2
}
